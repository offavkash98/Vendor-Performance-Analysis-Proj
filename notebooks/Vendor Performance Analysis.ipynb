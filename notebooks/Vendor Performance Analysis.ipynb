{
 "cells": [
  {
   "cell_type": "markdown",
   "id": "472a0d59-41fa-42a9-9fe3-2f74d8702d5b",
   "metadata": {},
   "source": [
    "## Importing Libraries"
   ]
  },
  {
   "cell_type": "code",
   "execution_count": 4,
   "id": "8bfa861e-ec9b-4e84-9974-cfd4c71d02e5",
   "metadata": {},
   "outputs": [],
   "source": [
    "import pandas as pd\n",
    "import numpy as np\n",
    "import matplotlib.pyplot as plt\n",
    "import seaborn as sns \n",
    "import warnings\n",
    "import sqlite3\n",
    "from scipy.stats import ttest_ind\n",
    "import scipy.stats as stats\n",
    "warnings.filterwarnings('ignore')"
   ]
  },
  {
   "cell_type": "markdown",
   "id": "ff26647b-81e8-4eb4-bee4-8c4ea5067252",
   "metadata": {},
   "source": [
    "## Loading the Dataset"
   ]
  },
  {
   "cell_type": "code",
   "execution_count": 6,
   "id": "af2b1807-8200-4a7e-8057-8ec37b12e0be",
   "metadata": {},
   "outputs": [
    {
     "ename": "DatabaseError",
     "evalue": "Execution failed on sql 'select * from Vendor_sales_summery': no such table: Vendor_sales_summery",
     "output_type": "error",
     "traceback": [
      "\u001b[1;31m---------------------------------------------------------------------------\u001b[0m",
      "\u001b[1;31mOperationalError\u001b[0m                          Traceback (most recent call last)",
      "File \u001b[1;32m~\\anaconda3\\Lib\\site-packages\\pandas\\io\\sql.py:2674\u001b[0m, in \u001b[0;36mSQLiteDatabase.execute\u001b[1;34m(self, sql, params)\u001b[0m\n\u001b[0;32m   2673\u001b[0m \u001b[38;5;28;01mtry\u001b[39;00m:\n\u001b[1;32m-> 2674\u001b[0m     cur\u001b[38;5;241m.\u001b[39mexecute(sql, \u001b[38;5;241m*\u001b[39margs)\n\u001b[0;32m   2675\u001b[0m     \u001b[38;5;28;01mreturn\u001b[39;00m cur\n",
      "\u001b[1;31mOperationalError\u001b[0m: no such table: Vendor_sales_summery",
      "\nThe above exception was the direct cause of the following exception:\n",
      "\u001b[1;31mDatabaseError\u001b[0m                             Traceback (most recent call last)",
      "Cell \u001b[1;32mIn[6], line 5\u001b[0m\n\u001b[0;32m      2\u001b[0m conn \u001b[38;5;241m=\u001b[39m sqlite3\u001b[38;5;241m.\u001b[39mconnect(\u001b[38;5;124m'\u001b[39m\u001b[38;5;124minventory.db\u001b[39m\u001b[38;5;124m'\u001b[39m)\n\u001b[0;32m      4\u001b[0m \u001b[38;5;66;03m# feting vendor summery Data\u001b[39;00m\n\u001b[1;32m----> 5\u001b[0m df \u001b[38;5;241m=\u001b[39m pd\u001b[38;5;241m.\u001b[39mread_sql_query(\u001b[38;5;124m\"\u001b[39m\u001b[38;5;124mselect * from Vendor_sales_summery\u001b[39m\u001b[38;5;124m\"\u001b[39m,conn)\n\u001b[0;32m      6\u001b[0m df\u001b[38;5;241m.\u001b[39mhead()\n",
      "File \u001b[1;32m~\\anaconda3\\Lib\\site-packages\\pandas\\io\\sql.py:526\u001b[0m, in \u001b[0;36mread_sql_query\u001b[1;34m(sql, con, index_col, coerce_float, params, parse_dates, chunksize, dtype, dtype_backend)\u001b[0m\n\u001b[0;32m    523\u001b[0m \u001b[38;5;28;01massert\u001b[39;00m dtype_backend \u001b[38;5;129;01mis\u001b[39;00m \u001b[38;5;129;01mnot\u001b[39;00m lib\u001b[38;5;241m.\u001b[39mno_default\n\u001b[0;32m    525\u001b[0m \u001b[38;5;28;01mwith\u001b[39;00m pandasSQL_builder(con) \u001b[38;5;28;01mas\u001b[39;00m pandas_sql:\n\u001b[1;32m--> 526\u001b[0m     \u001b[38;5;28;01mreturn\u001b[39;00m pandas_sql\u001b[38;5;241m.\u001b[39mread_query(\n\u001b[0;32m    527\u001b[0m         sql,\n\u001b[0;32m    528\u001b[0m         index_col\u001b[38;5;241m=\u001b[39mindex_col,\n\u001b[0;32m    529\u001b[0m         params\u001b[38;5;241m=\u001b[39mparams,\n\u001b[0;32m    530\u001b[0m         coerce_float\u001b[38;5;241m=\u001b[39mcoerce_float,\n\u001b[0;32m    531\u001b[0m         parse_dates\u001b[38;5;241m=\u001b[39mparse_dates,\n\u001b[0;32m    532\u001b[0m         chunksize\u001b[38;5;241m=\u001b[39mchunksize,\n\u001b[0;32m    533\u001b[0m         dtype\u001b[38;5;241m=\u001b[39mdtype,\n\u001b[0;32m    534\u001b[0m         dtype_backend\u001b[38;5;241m=\u001b[39mdtype_backend,\n\u001b[0;32m    535\u001b[0m     )\n",
      "File \u001b[1;32m~\\anaconda3\\Lib\\site-packages\\pandas\\io\\sql.py:2738\u001b[0m, in \u001b[0;36mSQLiteDatabase.read_query\u001b[1;34m(self, sql, index_col, coerce_float, parse_dates, params, chunksize, dtype, dtype_backend)\u001b[0m\n\u001b[0;32m   2727\u001b[0m \u001b[38;5;28;01mdef\u001b[39;00m \u001b[38;5;21mread_query\u001b[39m(\n\u001b[0;32m   2728\u001b[0m     \u001b[38;5;28mself\u001b[39m,\n\u001b[0;32m   2729\u001b[0m     sql,\n\u001b[1;32m   (...)\u001b[0m\n\u001b[0;32m   2736\u001b[0m     dtype_backend: DtypeBackend \u001b[38;5;241m|\u001b[39m Literal[\u001b[38;5;124m\"\u001b[39m\u001b[38;5;124mnumpy\u001b[39m\u001b[38;5;124m\"\u001b[39m] \u001b[38;5;241m=\u001b[39m \u001b[38;5;124m\"\u001b[39m\u001b[38;5;124mnumpy\u001b[39m\u001b[38;5;124m\"\u001b[39m,\n\u001b[0;32m   2737\u001b[0m ) \u001b[38;5;241m-\u001b[39m\u001b[38;5;241m>\u001b[39m DataFrame \u001b[38;5;241m|\u001b[39m Iterator[DataFrame]:\n\u001b[1;32m-> 2738\u001b[0m     cursor \u001b[38;5;241m=\u001b[39m \u001b[38;5;28mself\u001b[39m\u001b[38;5;241m.\u001b[39mexecute(sql, params)\n\u001b[0;32m   2739\u001b[0m     columns \u001b[38;5;241m=\u001b[39m [col_desc[\u001b[38;5;241m0\u001b[39m] \u001b[38;5;28;01mfor\u001b[39;00m col_desc \u001b[38;5;129;01min\u001b[39;00m cursor\u001b[38;5;241m.\u001b[39mdescription]\n\u001b[0;32m   2741\u001b[0m     \u001b[38;5;28;01mif\u001b[39;00m chunksize \u001b[38;5;129;01mis\u001b[39;00m \u001b[38;5;129;01mnot\u001b[39;00m \u001b[38;5;28;01mNone\u001b[39;00m:\n",
      "File \u001b[1;32m~\\anaconda3\\Lib\\site-packages\\pandas\\io\\sql.py:2686\u001b[0m, in \u001b[0;36mSQLiteDatabase.execute\u001b[1;34m(self, sql, params)\u001b[0m\n\u001b[0;32m   2683\u001b[0m     \u001b[38;5;28;01mraise\u001b[39;00m ex \u001b[38;5;28;01mfrom\u001b[39;00m \u001b[38;5;21;01minner_exc\u001b[39;00m\n\u001b[0;32m   2685\u001b[0m ex \u001b[38;5;241m=\u001b[39m DatabaseError(\u001b[38;5;124mf\u001b[39m\u001b[38;5;124m\"\u001b[39m\u001b[38;5;124mExecution failed on sql \u001b[39m\u001b[38;5;124m'\u001b[39m\u001b[38;5;132;01m{\u001b[39;00msql\u001b[38;5;132;01m}\u001b[39;00m\u001b[38;5;124m'\u001b[39m\u001b[38;5;124m: \u001b[39m\u001b[38;5;132;01m{\u001b[39;00mexc\u001b[38;5;132;01m}\u001b[39;00m\u001b[38;5;124m\"\u001b[39m)\n\u001b[1;32m-> 2686\u001b[0m \u001b[38;5;28;01mraise\u001b[39;00m ex \u001b[38;5;28;01mfrom\u001b[39;00m \u001b[38;5;21;01mexc\u001b[39;00m\n",
      "\u001b[1;31mDatabaseError\u001b[0m: Execution failed on sql 'select * from Vendor_sales_summery': no such table: Vendor_sales_summery"
     ]
    }
   ],
   "source": [
    "# Creating DataBase Connection\n",
    "conn = sqlite3.connect('inventory.db')\n",
    "\n",
    "# feting vendor summery Data\n",
    "df = pd.read_sql_query(\"select * from Vendor_sales_summery\",conn)\n",
    "df.head()"
   ]
  },
  {
   "cell_type": "markdown",
   "id": "879f9383-913f-48f2-b988-5a6a314bb344",
   "metadata": {},
   "source": [
    "## Exploratory Data Analysis"
   ]
  },
  {
   "cell_type": "markdown",
   "id": "cd0287bc-41b6-4048-b7d3-dc82135f1e28",
   "metadata": {},
   "source": [
    "- Previously, we examined the various tables in the database to identify key variables, understand their relationships, and determine which ones should    be included in the final analysis.\n",
    "- In this phase of EDA, we will analyze the resultant table to gain insights into the distribution of each column. This will help us understand data       patterns, identify anomalies, and ensure data quality before proceeding with further analysis."
   ]
  },
  {
   "cell_type": "code",
   "execution_count": null,
   "id": "b5f17ed2-3c90-4fc6-85b7-ca23e156a7c9",
   "metadata": {},
   "outputs": [],
   "source": [
    "# summery statistics\n",
    "df.describe().T"
   ]
  },
  {
   "cell_type": "code",
   "execution_count": null,
   "id": "0429965f-0fad-4683-963c-69549d95e3ce",
   "metadata": {},
   "outputs": [],
   "source": [
    "# Distribution plots for numerical columns\n",
    "numerical_cols = df.select_dtypes(include=np.number).columns\n",
    "\n",
    "plt.figure(figsize=(20, 15))\n",
    "\n",
    "for i, col in enumerate(numerical_cols):\n",
    "    plt.subplot(4, 5, i + 1)  # Adjust 4,5 depending on the number of columns\n",
    "    sns.histplot(df[col], kde=True, bins=30)\n",
    "    plt.title(col)\n",
    "    plt.tight_layout()\n",
    "\n",
    "plt.show()"
   ]
  },
  {
   "cell_type": "code",
   "execution_count": null,
   "id": "a9f9f263-7586-4706-b683-55702d500f91",
   "metadata": {},
   "outputs": [],
   "source": [
    "# Outliers Detection with Boxplot\n",
    "\n",
    "plt.figure(figsize=(15,10))\n",
    "for i, col in enumerate(numerical_cols):\n",
    "    plt.subplot(4, 4, i + 1)\n",
    "    sns.boxplot(y=df[col])\n",
    "    plt.title(col)\n",
    "plt.tight_layout()\n",
    "plt.show()"
   ]
  },
  {
   "cell_type": "markdown",
   "id": "cdc8de78-d7ac-40c7-b3ab-33c92e900166",
   "metadata": {},
   "source": [
    "# Summary Statistics Insights:"
   ]
  },
  {
   "cell_type": "markdown",
   "id": "a9532727-a499-43a6-96bc-268852f0c7e1",
   "metadata": {},
   "source": [
    "### Negative & Zero Values:"
   ]
  },
  {
   "cell_type": "markdown",
   "id": "2c83db39-a9ef-4cc7-88ae-531bc2ee706e",
   "metadata": {},
   "source": [
    "- Gross Profit: Minimum value is -52,002.78, indicating losses. Some products or transactions may be selling at a loss due to high costs or selling at discounts\n",
    "lower than the purchase price..\n",
    "- Profit Margin: Has a minimum of which suggests cases where revenue is zero or even lower than costs.\n",
    "- Total Sales Quantity & Sales Dollars: Minimum values are O, meaning some products were purchased but never sold. These could be slow-moving or obsolete\n",
    "stock."
   ]
  },
  {
   "cell_type": "markdown",
   "id": "3a42dbe3-f7d2-4392-9400-898b28ae128c",
   "metadata": {},
   "source": [
    "### Outliers Indicated by High Standard Deviations:"
   ]
  },
  {
   "cell_type": "markdown",
   "id": "6c762833-332b-48dc-92d0-41c86af419f8",
   "metadata": {},
   "source": [
    "- Purchase & Actual Prices: The max values (5,681.81 & 7,499.99) are significantly higher than the mean (24.39 & 35.64), indicating potential premium\n",
    "products.\n",
    "- Freight Cost: Huge variation, from 0.09 to 257,032.07, suggests logistics inefficiencies or bulk shipments.\n",
    "- Stock Turnover. Ranges from O to 274.5, implying some products sell extremely fast while others remain in stock indefinitely. Value more than I indicates that Sold quantity for that product is higher than purchased quantity due to either sales are being fulfilled from older stock."
   ]
  },
  {
   "cell_type": "code",
   "execution_count": null,
   "id": "9f7cd793-bdf7-4596-ae11-bbb7a03cfad5",
   "metadata": {},
   "outputs": [],
   "source": [
    "# let's filter the data by removing inconsistencies\n",
    "\n",
    "df = pd.read_sql_query(\"\"\"select *\n",
    "from Vendor_sales_summery\n",
    "where GrossProfit > 0\n",
    "and ProfitMargin > 0\n",
    "and TotalSalesQuantity > 0\n",
    "\"\"\",conn)"
   ]
  },
  {
   "cell_type": "code",
   "execution_count": null,
   "id": "d9e99445-dd65-4c85-9e01-d55855b8d4b8",
   "metadata": {},
   "outputs": [],
   "source": [
    "df"
   ]
  },
  {
   "cell_type": "code",
   "execution_count": null,
   "id": "4eb424bb-9574-4cad-9765-71d0c0685290",
   "metadata": {},
   "outputs": [],
   "source": [
    "# Distribution plots for numerical columns\n",
    "numerical_cols = df.select_dtypes(include=np.number).columns\n",
    "\n",
    "plt.figure(figsize=(20, 15))\n",
    "\n",
    "for i, col in enumerate(numerical_cols):\n",
    "    plt.subplot(4, 5, i + 1)  # Adjust 4,5 depending on the number of columns\n",
    "    sns.histplot(df[col], kde=True, bins=30)\n",
    "    plt.title(col)\n",
    "    plt.tight_layout()\n",
    "\n",
    "plt.show()"
   ]
  },
  {
   "cell_type": "code",
   "execution_count": null,
   "id": "3a0e6bb8-f852-459d-ae93-2163b7b35dcb",
   "metadata": {},
   "outputs": [],
   "source": [
    "# Count Plots for Categorical Columns\n",
    "\n",
    "categorical_cols = [\"VendorName\", \"Description\"]\n",
    "\n",
    "plt.figure(figsize=(12, 5))\n",
    "\n",
    "for i, col in enumerate(categorical_cols):\n",
    "    plt.subplot(1, 2, i + 1)\n",
    "    order = df[col].value_counts().index[:10]\n",
    "    sns.countplot(y=df[col], order=order)\n",
    "    plt.title(f\"Count plot of {col}\")\n",
    "    plt.xlabel(\"Count\")\n",
    "    plt.ylabel(col)\n",
    "\n",
    "plt.tight_layout()\n",
    "plt.show()"
   ]
  },
  {
   "cell_type": "code",
   "execution_count": null,
   "id": "96399905-503e-4cac-b49c-6131908745a7",
   "metadata": {},
   "outputs": [],
   "source": [
    "# Coorealtion Heatmap\n",
    "plt.figure(figsize=(12,8))\n",
    "correlation_matrix=df[numerical_cols].corr()\n",
    "sns.heatmap(correlation_matrix,annot=True, fmt='.2f', cmap=\"coolwarm\",linewidths=0.5)\n",
    "plt.title(\"Correlation Heatmap\")\n",
    "plt.show()"
   ]
  },
  {
   "cell_type": "markdown",
   "id": "eb5651ca-04f6-4076-8a64-2c21903b162f",
   "metadata": {},
   "source": [
    "## Correlation Insights"
   ]
  },
  {
   "cell_type": "markdown",
   "id": "c7d70d46-798f-4352-bb61-9261c2b2b6e6",
   "metadata": {},
   "source": [
    "- PurchasePrice has weak correlations with TotalSalesDollars (-0.012) and GrossProfit (-0.016), suggesting that price variations do not significantly impact sales revenue or profit.\n",
    "- Strong correlation between total purchase quantity and total sales quantity (0.999), confirming efficient inventory turnover.\n",
    "- Negative correlation between profit margin & total sales price (-0.179) suggests that as sales price increases, margins decrease, possibly due to competitive pricing pressures.\n",
    "- StockTurnover has weak negative correlations with both GrossProfit (-0.038) and ProfitMargin (-0.055), indicating that faster turnover does not necessarily result in higher profitability."
   ]
  },
  {
   "cell_type": "markdown",
   "id": "60426db4-0abc-4f4d-a058-ee83bbeb3832",
   "metadata": {},
   "source": [
    "# Data Analysis"
   ]
  },
  {
   "cell_type": "markdown",
   "id": "655feb45-9e41-4ec2-92a8-7e062a31852f",
   "metadata": {},
   "source": [
    "1. Identify Brands that needs Promotional or Pricing Adjustments which exhibit lower sales performance but higher profit margins."
   ]
  },
  {
   "cell_type": "code",
   "execution_count": null,
   "id": "cf96fb54-a2ba-4337-b2a5-c3f937db8ff5",
   "metadata": {},
   "outputs": [],
   "source": [
    "brand_performance = df.groupby('Description').agg({\n",
    "    'TotalSalesDollars' : 'sum',\n",
    "    \"ProfitMargin\" : 'mean'}).reset_index()"
   ]
  },
  {
   "cell_type": "code",
   "execution_count": null,
   "id": "6952ab00-b19a-4737-bf7d-3ad6e25b1164",
   "metadata": {},
   "outputs": [],
   "source": [
    "low_sales_thresold = brand_performance['TotalSalesDollars'].quantile(0.15)\n",
    "high_margine_thresold = brand_performance['ProfitMargin'].quantile(0.85)"
   ]
  },
  {
   "cell_type": "code",
   "execution_count": null,
   "id": "d5c81995-c605-4c70-bd8f-d12203ecf54c",
   "metadata": {},
   "outputs": [],
   "source": [
    "low_sales_thresold"
   ]
  },
  {
   "cell_type": "code",
   "execution_count": null,
   "id": "c9d5a278-83b3-43d6-b9bc-f276447b3571",
   "metadata": {},
   "outputs": [],
   "source": [
    "high_margine_thresold"
   ]
  },
  {
   "cell_type": "code",
   "execution_count": null,
   "id": "c6fabe8f-e4c5-47b9-b810-7fe96aadb409",
   "metadata": {},
   "outputs": [],
   "source": [
    "# filter breands with low sales but high profit margins\n",
    "\n",
    "target_brands = brand_performance[\n",
    "    (brand_performance['TotalSalesDollars'] <= low_sales_thresold) &\n",
    "    (brand_performance['ProfitMargin'] <= high_margine_thresold)\n",
    "]\n",
    "\n",
    "print(\"Brands with Low Sates but High Profit Margins: \")\n",
    "display(target_brands.sort_values( 'TotalSalesDollars'))"
   ]
  },
  {
   "cell_type": "code",
   "execution_count": null,
   "id": "19daace7-6183-41fa-b45c-eb90ca0493dd",
   "metadata": {},
   "outputs": [],
   "source": [
    "plt.figure(figsize=(10,6))\n",
    "sns.scatterplot(data=brand_performance, x='TotalSalesDollars',y='ProfitMargin',color='blue',label='All Brands',alpha=0.2)\n",
    "sns.scatterplot(data=target_brands, x='TotalSalesDollars', y='ProfitMargin',color='red',label= \"Target Brands\" )\n",
    "\n",
    "plt.axhline(high_margine_thresold, linestyle='--',color= 'black',label=\"high Margin Threshold\")\n",
    "plt.axvline(low_sales_thresold, linestyle='--',color= 'black',label=\"low Margin Threshold\")\n",
    "\n",
    "plt.xlabel = (\"Total Sales ($)\")\n",
    "plt.ylabel = (\"Profit Margin (%)\")\n",
    "plt.title(\"Brands for Promotional or Pricing Adjustments\")\n",
    "plt. legend()\n",
    "plt.grid(True)\n",
    "plt. show()"
   ]
  },
  {
   "cell_type": "code",
   "execution_count": null,
   "id": "04d39dc7-f8f2-4aa7-9219-d11575b854d7",
   "metadata": {},
   "outputs": [],
   "source": [
    "brand_performance = brand_performance[brand_performance[\"TotalSalesDollars\"]<10000] # for better visualization"
   ]
  },
  {
   "cell_type": "code",
   "execution_count": null,
   "id": "285f6762-1a13-4e8b-a565-f39b339b3d8f",
   "metadata": {},
   "outputs": [],
   "source": [
    "plt.figure(figsize=(10, 6))\n",
    "sns.scatterplot(data=brand_performance, x='TotalSalesDollars', y='ProfitMargin', color=\"blue\", label=\"All Brands\", alpha = 0.2)\n",
    "sns.scatterplot(data=target_brands, x='TotalSalesDollars', y='ProfitMargin', color=\"red\", label=\"Target Brands\")\n",
    "\n",
    "plt.axhline(high_margin_threshold, linestyle='--', color='black', label=\"High Margin Threshold\")\n",
    "plt.axvline(low_sales_threshold, linestyle='--', color='black', label=\"Low Sales Threshold\")\n",
    "\n",
    "plt.xlabel(\"Total Sales ($)\")\n",
    "plt.ylabel(\"Profit Margin (%)\")\n",
    "plt.title(\"Brands for Promotional or Pricing Adjustments\")\n",
    "plt.legend()\n",
    "plt.grid(True)\n",
    "plt.show()"
   ]
  },
  {
   "cell_type": "markdown",
   "id": "35d6dad5-7693-4e60-90ab-d3ec67e33fc5",
   "metadata": {},
   "source": [
    "2. Which vendors and brands demonstrate the highqst sales performance?"
   ]
  },
  {
   "cell_type": "code",
   "execution_count": null,
   "id": "d21bbae9-1dee-4aa7-9294-1153865f801b",
   "metadata": {},
   "outputs": [],
   "source": [
    " # Top Vendors & Brands by Sales Performance\n",
    "\n",
    "top_vendors = df.groupby(\"VendorName\")[\"TotalSalesDollars\"].sum().nlargest(10)\n",
    "top_brands = df.groupby(\"Description\")[\"TotalSalesDollars\"].sum().nlargest(10)"
   ]
  },
  {
   "cell_type": "code",
   "execution_count": null,
   "id": "b9390453-affc-4a4e-a7dd-54c6d359a8ce",
   "metadata": {},
   "outputs": [],
   "source": [
    "top_vendors"
   ]
  },
  {
   "cell_type": "code",
   "execution_count": null,
   "id": "7779c2f8-b0ab-4d4e-9ccd-9000c8f7e13a",
   "metadata": {},
   "outputs": [],
   "source": [
    "top_brands"
   ]
  },
  {
   "cell_type": "code",
   "execution_count": null,
   "id": "f4f1f206-d311-4360-96c7-1a9e46f63c86",
   "metadata": {},
   "outputs": [],
   "source": [
    "def format_dollars(value):\n",
    "    if value >= 1_000_000:\n",
    "        return f\"{value/1_000_000:2f}M\"\n",
    "    elif value >= 1_000:\n",
    "        return f\"{value/1_000:2f}K\"\n",
    "    else:\n",
    "        return str(value)"
   ]
  },
  {
   "cell_type": "code",
   "execution_count": null,
   "id": "c7bac8e8-e7cb-4e1c-8546-4184faf9bc24",
   "metadata": {},
   "outputs": [],
   "source": [
    "top_brands.apply(lambda x : format_dollars(x))"
   ]
  },
  {
   "cell_type": "code",
   "execution_count": null,
   "id": "ad748ed0-935a-4731-b47c-7196a672d44a",
   "metadata": {},
   "outputs": [],
   "source": [
    "plt.figure(figsize=(15,5))\n",
    "\n",
    "# plot for top vendors \n",
    "plt.subplot(1,2,1)\n",
    "ax1=sns.barplot(y=top_vendors.index,x=top_vendors.values,palette=\"Blues_r\")\n",
    "plt.title(\"Top 10 vendors by Sales\")\n",
    "\n",
    "for bar in ax1.patches:\n",
    "    ax1.text(bar.get_width() + (bar.get_width() * 0.02),\n",
    "             bar.get_y() + bar.get_height()/2,\n",
    "             format_dollars(bar.get_width()),\n",
    "             ha='left',va='center',fontsize=10,color='black')\n",
    "\n",
    "# Plot for Top Brands\n",
    "plt. subplot(1, 2, 2)\n",
    "ax2 = sns.barplot(y=top_brands.index.astype(str), x=top_brands.values, palette=\"Reds_r\")\n",
    "plt.title=(\"Top 1O Brands by Sales\")\n",
    "\n",
    "for bar in ax2.patches:\n",
    "    ax2.text(bar.get_width() + (bar.get_width() * 0.02),\n",
    "             bar.get_y() + bar.get_height() / 2,\n",
    "             format_dollars(bar.get_width()) ,\n",
    "             ha='left', va='center',fontsize=10, color='black')\n",
    "\n",
    "plt.tight_layout()\n",
    "plt.show()"
   ]
  },
  {
   "cell_type": "markdown",
   "id": "a2773446-e3d7-4d16-ab96-4f50d8521124",
   "metadata": {},
   "source": [
    "3. Which vendors contribute the most to total purchase dollars?"
   ]
  },
  {
   "cell_type": "code",
   "execution_count": null,
   "id": "50233773-97e4-4c4e-8501-5e927f15f66a",
   "metadata": {},
   "outputs": [],
   "source": [
    "vendor_performance = df.groupby('VendorName').agg({\n",
    "    'TotalPurchaseDollars' : 'sum',\n",
    "    \"GrossProfit\" : 'sum',\n",
    "    'TotalSalesDollars': 'sum'}).reset_index()\n",
    "\n",
    "vendor_performance.shape"
   ]
  },
  {
   "cell_type": "code",
   "execution_count": null,
   "id": "40966124-5c5c-42cb-b1cb-f4fd69050967",
   "metadata": {},
   "outputs": [],
   "source": [
    "vendor_performance['PurchaseContribution%'] = vendor_performance['TotalPurchaseDollars']/ vendor_performance['TotalPurchaseDollars'].sum()"
   ]
  },
  {
   "cell_type": "code",
   "execution_count": null,
   "id": "c73c98ff-86fb-4c01-84f6-5569a3ba21a1",
   "metadata": {},
   "outputs": [],
   "source": [
    "vendor_performance = round(vendor_performance.sort_values('PurchaseContribution%',ascending = False),2)"
   ]
  },
  {
   "cell_type": "code",
   "execution_count": null,
   "id": "111299bb-c669-4bbf-ba7c-5162c20b8bbf",
   "metadata": {},
   "outputs": [],
   "source": [
    "# Display to 10 vendors\n",
    "\n",
    "top_vendors = vendor_performance.head(10)\n",
    "top_vendors['TotalSalesDollars'] = top_vendors['TotalSalesDollars'].apply(format_dollars)\n",
    "top_vendors['TotalPurchaseDollars'] = top_vendors['TotalPurchaseDollars'].apply(format_dollars)\n",
    "top_vendors['GrossProfit'] = top_vendors['GrossProfit'].apply(format_dollars)\n",
    "top_vendors"
   ]
  },
  {
   "cell_type": "code",
   "execution_count": null,
   "id": "f7b1dd32-3049-494f-856f-3010133b2a72",
   "metadata": {},
   "outputs": [],
   "source": [
    "top_vendors['PurchaseContribution%'].sum()"
   ]
  },
  {
   "cell_type": "code",
   "execution_count": null,
   "id": "64c1b2b7-5d7d-4c8c-aaf2-3924eeef6a69",
   "metadata": {},
   "outputs": [],
   "source": [
    "top_vendors['Cumulative_Contribution'] = top_vendors['PurchaseContribution%'].cumsum()\n",
    "top_vendors"
   ]
  },
  {
   "cell_type": "code",
   "execution_count": null,
   "id": "97582014-5c58-4730-9452-2b19c03e48e2",
   "metadata": {},
   "outputs": [],
   "source": [
    "vendor_performance['PurchaseContribution%'] = vendor_performance['TotalPurchaseDollars']/vendor_performance['TotalPurchaseDollars'].sum()*100"
   ]
  },
  {
   "cell_type": "code",
   "execution_count": null,
   "id": "dc738ade-5cb4-4e09-b9e8-75cd7649b9ed",
   "metadata": {},
   "outputs": [],
   "source": [
    "top_vendors['Cumulative_Contribution%'] = top_vendors['PurchaseContribution%'].cumsum()\n",
    "\n",
    "fig, ax1 = plt.subplots(figsize=(10,6))\n",
    "\n",
    "# Bar Plot for Purchase Contribution%\n",
    "sns.barplot(x=top_vendors['VendorName'], y=top_vendors['PurchaseContribution%'], palette='mako',ax=ax1)\n",
    "\n",
    "for i, value in enumerate(top_vendors['PurchaseContribution%']):\n",
    "    ax1.text(i,value-1,str(value)+'%',ha='center',fontsize=10,color='white')\n",
    "\n",
    "# Line Plot for Cumulative Contribution%\n",
    "ax2 = ax1.twinx()\n",
    "ax2.plot(top_vendors['VendorName'],top_vendors['Cumulative_Contribution%'], color='red',marker='o',linestyle= 'dashed',label='Cumulative Distribution')\n",
    "\n",
    "ax1.set_xticklabels(top_vendors['VendorName'], rotation=90)\n",
    "ax1.set_ylabel('Purchase Contribution%',color='blue')\n",
    "ax2.set_ylabel('Cumulative Contribution%',color='red')\n",
    "ax1.set_xlabel('Vendors')\n",
    "ax1.set_title('Pareto Chart: Vendor Contribution to Totat Purchases')\n",
    "\n",
    "ax2.axhline(y=100,color='grey',linestyle='dashed',alpha=0.7)\n",
    "ax2.legend(loc='upper right')\n",
    "\n",
    "plt.show()"
   ]
  },
  {
   "cell_type": "markdown",
   "id": "37a5376e-34dd-488f-99c8-3774275e85b4",
   "metadata": {},
   "source": [
    "4. How much of total procurement is dependent on top vendors ?"
   ]
  },
  {
   "cell_type": "code",
   "execution_count": null,
   "id": "44c6b903-6a0c-42fa-b432-fa5c6e70911c",
   "metadata": {},
   "outputs": [],
   "source": [
    "print(f\"Total Purchase Contribution of Top 10 Vendors is {round(top_vendors['PurchaseContribution%'].sum(),2)} %\")"
   ]
  },
  {
   "cell_type": "code",
   "execution_count": null,
   "id": "19899e1a-1403-489d-846d-64159fc74154",
   "metadata": {},
   "outputs": [],
   "source": [
    "vendors = list(top_vendors['VendorName'].values)\n",
    "purchase_contributions = list(top_vendors['PurchaseContribution%'].values)\n",
    "total_contribution = sum(purchase_contributions)\n",
    "remaining_contribution = 100 - total_contribution\n",
    "\n",
    "# Append \"other Vendors\" category\n",
    "vendors.append(\"Other Vendors\")\n",
    "purchase_contributions.append(remaining_contribution)\n",
    "\n",
    "# Donut Chart\n",
    "fig, ax= plt.subplots(figsize=(8,8))\n",
    "wedges,texts,autotexts = ax.pie(purchase_contributions, labels = vendors, autopct='%1.1f%%',\n",
    "                               startangle=140,pctdistance=0.85,colors=plt.cm.Paired.colors)\n",
    "\n",
    "# Draw a white circle in the center to create a \"donut\" effect\n",
    "center_circle = plt.Circle((0,0),0.70,fc='white')\n",
    "fig.gca().add_artist(center_circle)\n",
    "\n",
    "# Add total contribution annotation in the center\n",
    "plt.text(0,0,f\"Top 10 Total :/n{total_contribution:.2f}%\",fontsize=14,fontweight='bold',ha='center',va='center')\n",
    "\n",
    "plt.title(\"Top 10 Vendors Purchase Contribution (%)\")\n",
    "plt.show()"
   ]
  },
  {
   "cell_type": "markdown",
   "id": "390ce591-40eb-4562-814f-043b5136bca4",
   "metadata": {},
   "source": [
    "5. Does Purchasing in bulk reduce the unit price and what is the optimal purchase volumne for cost saving ?"
   ]
  },
  {
   "cell_type": "code",
   "execution_count": null,
   "id": "76fa945a-f733-4efe-a6b3-45e6c2f8162f",
   "metadata": {},
   "outputs": [],
   "source": [
    "df['UnitPurchasePrice'] = df['TotalPurchaseDollars']/df['TotalPurchaseQuantity']"
   ]
  },
  {
   "cell_type": "code",
   "execution_count": null,
   "id": "5e155f6f-6c20-4f40-9ce2-5230818268e3",
   "metadata": {},
   "outputs": [],
   "source": [
    "df[\"OrderSize\"] = pd.qcut(df[\"TotalPurchaseQuantity\"],q=3,labels=[\"Small\",\"Medium\",\"Large\"])"
   ]
  },
  {
   "cell_type": "code",
   "execution_count": null,
   "id": "ba15dee2-b0c4-4d1a-a7a5-045811070e72",
   "metadata": {},
   "outputs": [],
   "source": [
    "df[['OrderSize','TotalPurchaseQuantity']]"
   ]
  },
  {
   "cell_type": "code",
   "execution_count": null,
   "id": "aba104c8-437f-4cee-b73b-318d055552d3",
   "metadata": {},
   "outputs": [],
   "source": [
    "df.groupby('OrderSize')[['UnitPurchasePrice']].mean()"
   ]
  },
  {
   "cell_type": "code",
   "execution_count": null,
   "id": "49147267-4316-4e81-b097-4dce5309fce8",
   "metadata": {},
   "outputs": [],
   "source": [
    "plt.figure(figsize=(10,6))\n",
    "sns.boxplot(data=df,x=\"OrderSize\",y=\"UnitPurchasePrice\",palette=\"Set2\")\n",
    "plt.tile(\"Impact of Bulk Purchasing on Unit Price\")\n",
    "plt.xlabel(\"Oder size\")\n",
    "plt.ylabel(\"Average Unit Purchase Price\")\n",
    "plt.show()"
   ]
  },
  {
   "cell_type": "markdown",
   "id": "1110e03e-9113-4842-b177-d6953462ba9f",
   "metadata": {},
   "source": [
    "- Vendors buying in Bulk(large order size) get the lowest unit price ($10.78 per Unit), Meaning higher margins if they can manage inventory efficiently.\n",
    "- The price differnece between small and large orders is substantial (~72% reduction in unit cost)\n",
    "- This suggests that bulk pricing strategies successfully encourage vendors to purchase in large volume, Leading to higher overall sales despite lower per unit revenue.    "
   ]
  },
  {
   "cell_type": "code",
   "execution_count": null,
   "id": "a454e1e2-a56c-44ec-b045-e4e783a36b6f",
   "metadata": {},
   "outputs": [],
   "source": []
  }
 ],
 "metadata": {
  "kernelspec": {
   "display_name": "Python 3 (ipykernel)",
   "language": "python",
   "name": "python3"
  },
  "language_info": {
   "codemirror_mode": {
    "name": "ipython",
    "version": 3
   },
   "file_extension": ".py",
   "mimetype": "text/x-python",
   "name": "python",
   "nbconvert_exporter": "python",
   "pygments_lexer": "ipython3",
   "version": "3.12.7"
  }
 },
 "nbformat": 4,
 "nbformat_minor": 5
}
