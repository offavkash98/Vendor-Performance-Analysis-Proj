{
 "cells": [
  {
   "cell_type": "markdown",
   "id": "7ab3a119-9eb8-4882-9a1e-821b52497ca9",
   "metadata": {},
   "source": [
    "# Exploratory Data Analysis"
   ]
  },
  {
   "cell_type": "markdown",
   "id": "73ea38a2-7510-4a77-abba-f35a1f314126",
   "metadata": {},
   "source": [
    "Understanding the dataset to explore how the data present in the database and if there is a need of creating some aggrigated tables that can help with :\n",
    "\n",
    "* Vendor Selection for profitability\n",
    "* Product Pricing Optimization"
   ]
  },
  {
   "cell_type": "code",
   "execution_count": 4,
   "id": "ef829fa5-25a4-4c7f-8af3-11ed2e1084c9",
   "metadata": {},
   "outputs": [],
   "source": [
    "import pandas as pd\n",
    "import sqlite3"
   ]
  },
  {
   "cell_type": "code",
   "execution_count": 5,
   "id": "80e46009-34d0-4bba-a5c4-fb9ffdd17b11",
   "metadata": {},
   "outputs": [],
   "source": [
    "# Creating DataBase Connection\n",
    "\n",
    "conn = sqlite3.connect('inventory.db')"
   ]
  },
  {
   "cell_type": "code",
   "execution_count": 6,
   "id": "2343df77-78d8-451a-bb97-dfe7f8c90b01",
   "metadata": {},
   "outputs": [
    {
     "data": {
      "text/html": [
       "<div>\n",
       "<style scoped>\n",
       "    .dataframe tbody tr th:only-of-type {\n",
       "        vertical-align: middle;\n",
       "    }\n",
       "\n",
       "    .dataframe tbody tr th {\n",
       "        vertical-align: top;\n",
       "    }\n",
       "\n",
       "    .dataframe thead th {\n",
       "        text-align: right;\n",
       "    }\n",
       "</style>\n",
       "<table border=\"1\" class=\"dataframe\">\n",
       "  <thead>\n",
       "    <tr style=\"text-align: right;\">\n",
       "      <th></th>\n",
       "      <th>name</th>\n",
       "    </tr>\n",
       "  </thead>\n",
       "  <tbody>\n",
       "  </tbody>\n",
       "</table>\n",
       "</div>"
      ],
      "text/plain": [
       "Empty DataFrame\n",
       "Columns: [name]\n",
       "Index: []"
      ]
     },
     "execution_count": 6,
     "metadata": {},
     "output_type": "execute_result"
    }
   ],
   "source": [
    "# Checking tables present in the database\n",
    "\n",
    "tables = pd.read_sql_query(\"select name from sqlite_master where type='table'\",conn)\n",
    "tables"
   ]
  },
  {
   "cell_type": "code",
   "execution_count": 7,
   "id": "72253aec-849c-43c4-a995-2ff6cec02766",
   "metadata": {},
   "outputs": [
    {
     "ename": "DatabaseError",
     "evalue": "Execution failed on sql 'select count(*) from sales': no such table: sales",
     "output_type": "error",
     "traceback": [
      "\u001b[1;31m---------------------------------------------------------------------------\u001b[0m",
      "\u001b[1;31mOperationalError\u001b[0m                          Traceback (most recent call last)",
      "File \u001b[1;32m~\\anaconda3\\Lib\\site-packages\\pandas\\io\\sql.py:2674\u001b[0m, in \u001b[0;36mSQLiteDatabase.execute\u001b[1;34m(self, sql, params)\u001b[0m\n\u001b[0;32m   2673\u001b[0m \u001b[38;5;28;01mtry\u001b[39;00m:\n\u001b[1;32m-> 2674\u001b[0m     cur\u001b[38;5;241m.\u001b[39mexecute(sql, \u001b[38;5;241m*\u001b[39margs)\n\u001b[0;32m   2675\u001b[0m     \u001b[38;5;28;01mreturn\u001b[39;00m cur\n",
      "\u001b[1;31mOperationalError\u001b[0m: no such table: sales",
      "\nThe above exception was the direct cause of the following exception:\n",
      "\u001b[1;31mDatabaseError\u001b[0m                             Traceback (most recent call last)",
      "Cell \u001b[1;32mIn[7], line 1\u001b[0m\n\u001b[1;32m----> 1\u001b[0m pd\u001b[38;5;241m.\u001b[39mread_sql(\u001b[38;5;124m\"\u001b[39m\u001b[38;5;124mselect count(*) from sales\u001b[39m\u001b[38;5;124m\"\u001b[39m,conn)\n",
      "File \u001b[1;32m~\\anaconda3\\Lib\\site-packages\\pandas\\io\\sql.py:706\u001b[0m, in \u001b[0;36mread_sql\u001b[1;34m(sql, con, index_col, coerce_float, params, parse_dates, columns, chunksize, dtype_backend, dtype)\u001b[0m\n\u001b[0;32m    704\u001b[0m \u001b[38;5;28;01mwith\u001b[39;00m pandasSQL_builder(con) \u001b[38;5;28;01mas\u001b[39;00m pandas_sql:\n\u001b[0;32m    705\u001b[0m     \u001b[38;5;28;01mif\u001b[39;00m \u001b[38;5;28misinstance\u001b[39m(pandas_sql, SQLiteDatabase):\n\u001b[1;32m--> 706\u001b[0m         \u001b[38;5;28;01mreturn\u001b[39;00m pandas_sql\u001b[38;5;241m.\u001b[39mread_query(\n\u001b[0;32m    707\u001b[0m             sql,\n\u001b[0;32m    708\u001b[0m             index_col\u001b[38;5;241m=\u001b[39mindex_col,\n\u001b[0;32m    709\u001b[0m             params\u001b[38;5;241m=\u001b[39mparams,\n\u001b[0;32m    710\u001b[0m             coerce_float\u001b[38;5;241m=\u001b[39mcoerce_float,\n\u001b[0;32m    711\u001b[0m             parse_dates\u001b[38;5;241m=\u001b[39mparse_dates,\n\u001b[0;32m    712\u001b[0m             chunksize\u001b[38;5;241m=\u001b[39mchunksize,\n\u001b[0;32m    713\u001b[0m             dtype_backend\u001b[38;5;241m=\u001b[39mdtype_backend,\n\u001b[0;32m    714\u001b[0m             dtype\u001b[38;5;241m=\u001b[39mdtype,\n\u001b[0;32m    715\u001b[0m         )\n\u001b[0;32m    717\u001b[0m     \u001b[38;5;28;01mtry\u001b[39;00m:\n\u001b[0;32m    718\u001b[0m         _is_table_name \u001b[38;5;241m=\u001b[39m pandas_sql\u001b[38;5;241m.\u001b[39mhas_table(sql)\n",
      "File \u001b[1;32m~\\anaconda3\\Lib\\site-packages\\pandas\\io\\sql.py:2738\u001b[0m, in \u001b[0;36mSQLiteDatabase.read_query\u001b[1;34m(self, sql, index_col, coerce_float, parse_dates, params, chunksize, dtype, dtype_backend)\u001b[0m\n\u001b[0;32m   2727\u001b[0m \u001b[38;5;28;01mdef\u001b[39;00m \u001b[38;5;21mread_query\u001b[39m(\n\u001b[0;32m   2728\u001b[0m     \u001b[38;5;28mself\u001b[39m,\n\u001b[0;32m   2729\u001b[0m     sql,\n\u001b[1;32m   (...)\u001b[0m\n\u001b[0;32m   2736\u001b[0m     dtype_backend: DtypeBackend \u001b[38;5;241m|\u001b[39m Literal[\u001b[38;5;124m\"\u001b[39m\u001b[38;5;124mnumpy\u001b[39m\u001b[38;5;124m\"\u001b[39m] \u001b[38;5;241m=\u001b[39m \u001b[38;5;124m\"\u001b[39m\u001b[38;5;124mnumpy\u001b[39m\u001b[38;5;124m\"\u001b[39m,\n\u001b[0;32m   2737\u001b[0m ) \u001b[38;5;241m-\u001b[39m\u001b[38;5;241m>\u001b[39m DataFrame \u001b[38;5;241m|\u001b[39m Iterator[DataFrame]:\n\u001b[1;32m-> 2738\u001b[0m     cursor \u001b[38;5;241m=\u001b[39m \u001b[38;5;28mself\u001b[39m\u001b[38;5;241m.\u001b[39mexecute(sql, params)\n\u001b[0;32m   2739\u001b[0m     columns \u001b[38;5;241m=\u001b[39m [col_desc[\u001b[38;5;241m0\u001b[39m] \u001b[38;5;28;01mfor\u001b[39;00m col_desc \u001b[38;5;129;01min\u001b[39;00m cursor\u001b[38;5;241m.\u001b[39mdescription]\n\u001b[0;32m   2741\u001b[0m     \u001b[38;5;28;01mif\u001b[39;00m chunksize \u001b[38;5;129;01mis\u001b[39;00m \u001b[38;5;129;01mnot\u001b[39;00m \u001b[38;5;28;01mNone\u001b[39;00m:\n",
      "File \u001b[1;32m~\\anaconda3\\Lib\\site-packages\\pandas\\io\\sql.py:2686\u001b[0m, in \u001b[0;36mSQLiteDatabase.execute\u001b[1;34m(self, sql, params)\u001b[0m\n\u001b[0;32m   2683\u001b[0m     \u001b[38;5;28;01mraise\u001b[39;00m ex \u001b[38;5;28;01mfrom\u001b[39;00m \u001b[38;5;21;01minner_exc\u001b[39;00m\n\u001b[0;32m   2685\u001b[0m ex \u001b[38;5;241m=\u001b[39m DatabaseError(\u001b[38;5;124mf\u001b[39m\u001b[38;5;124m\"\u001b[39m\u001b[38;5;124mExecution failed on sql \u001b[39m\u001b[38;5;124m'\u001b[39m\u001b[38;5;132;01m{\u001b[39;00msql\u001b[38;5;132;01m}\u001b[39;00m\u001b[38;5;124m'\u001b[39m\u001b[38;5;124m: \u001b[39m\u001b[38;5;132;01m{\u001b[39;00mexc\u001b[38;5;132;01m}\u001b[39;00m\u001b[38;5;124m\"\u001b[39m)\n\u001b[1;32m-> 2686\u001b[0m \u001b[38;5;28;01mraise\u001b[39;00m ex \u001b[38;5;28;01mfrom\u001b[39;00m \u001b[38;5;21;01mexc\u001b[39;00m\n",
      "\u001b[1;31mDatabaseError\u001b[0m: Execution failed on sql 'select count(*) from sales': no such table: sales"
     ]
    }
   ],
   "source": [
    "pd.read_sql(\"select count(*) from sales\",conn)"
   ]
  },
  {
   "cell_type": "code",
   "execution_count": null,
   "id": "e34f8bca-4ae3-4169-a556-25121d2a5c92",
   "metadata": {},
   "outputs": [],
   "source": [
    "for table in tables['name']:\n",
    "    print('-'*50,f'{table}','-'*50)\n",
    "    print('Count of Records :',pd.read_sql(f\"select count(*) as count from {table}\",conn)['count'].values[0])\n",
    "    display(pd.read_sql(f\"select * from {table} limit 5\",conn))"
   ]
  },
  {
   "cell_type": "code",
   "execution_count": null,
   "id": "cd397e62-29fe-4e0a-955e-6dd5893e6d16",
   "metadata": {},
   "outputs": [],
   "source": [
    "purchases = pd.read_sql_query(\"select * from purchases where VendorNumber = 4466\",conn)\n",
    "purchases"
   ]
  },
  {
   "cell_type": "code",
   "execution_count": null,
   "id": "12698414-e30d-459b-9a42-99e5471fd70c",
   "metadata": {},
   "outputs": [],
   "source": [
    "purchase_prices = pd.read_sql_query(\"select * from purchase_prices where VendorNumber = 4466\",conn)\n",
    "purchase_prices"
   ]
  },
  {
   "cell_type": "code",
   "execution_count": null,
   "id": "f4e225e3-5584-4101-a0b3-86aad28157b6",
   "metadata": {},
   "outputs": [],
   "source": [
    "vendor_invoice = pd.read_sql_query(\"select * from vendor_invoice where VendorNumber = 4466\",conn)\n",
    "vendor_invoice"
   ]
  },
  {
   "cell_type": "code",
   "execution_count": null,
   "id": "cf330bbe-ed3e-4e2e-bde8-d20aeccd80b2",
   "metadata": {},
   "outputs": [],
   "source": [
    "sales = pd.read_sql_query(\"select * from sales where VendorNo = 4466\",conn)\n",
    "sales"
   ]
  },
  {
   "cell_type": "code",
   "execution_count": null,
   "id": "99ad0211-7565-4ca4-819c-fa8c432e5a9d",
   "metadata": {},
   "outputs": [],
   "source": [
    "purchases.groupby(['Brand','PurchasePrice'])[['Quantity','Dollars']].sum()"
   ]
  },
  {
   "cell_type": "code",
   "execution_count": null,
   "id": "8ff453b0-dd66-48d6-8e18-a463db0ea425",
   "metadata": {},
   "outputs": [],
   "source": [
    "vendor_invoice['PONumber'].nunique()"
   ]
  },
  {
   "cell_type": "code",
   "execution_count": null,
   "id": "9116536a-c670-4799-a521-8e2a6af8087c",
   "metadata": {},
   "outputs": [],
   "source": [
    "purchase_prices"
   ]
  },
  {
   "cell_type": "code",
   "execution_count": null,
   "id": "56c5c77a-d4d9-4eaa-8cc2-002ff0535eb7",
   "metadata": {},
   "outputs": [],
   "source": [
    "vendor_invoice.columns"
   ]
  },
  {
   "cell_type": "code",
   "execution_count": null,
   "id": "2e8b19d5-f36b-4214-99ef-c3b83e73da8a",
   "metadata": {},
   "outputs": [],
   "source": [
    "sales"
   ]
  },
  {
   "cell_type": "code",
   "execution_count": null,
   "id": "66715241-ebf0-4c99-af59-91b296636854",
   "metadata": {},
   "outputs": [],
   "source": [
    "sales.groupby('Brand')[['SalesDollars','SalesPrice','SalesQuantity']].sum()"
   ]
  },
  {
   "cell_type": "markdown",
   "id": "caa73436-aa02-4995-a75a-b679d3889dda",
   "metadata": {},
   "source": [
    "- The purchases table contain actual purchase Data, including the date of purchase, products(brands) purchased by vendors, the amount paid (in dollars),\n",
    "  and the Quantity purchased.\n",
    "- The purchase price column is derived from the purchase_prices table, which provides product-wise actual and purchase prices. The combination of vendor\n",
    "  and brand is unique inkhis table.\n",
    "- The vendor_invoice table aggregates data from the purchases table, summarizing quantity and dollar amounts, along with an additional column for          freight.This table maintains uniqueness based on vendor and PO number.\n",
    "- The sales table captures actual sales transactions, detailing the brands purchased by vendors, the quantity sold, the selling price, and the revenue     earned."
   ]
  },
  {
   "cell_type": "markdown",
   "id": "91d75532-d7ed-475a-9d11-eedcab4c6ebc",
   "metadata": {},
   "source": [
    "As the data that we need for analysis is distributed in different tables, we need to create a summary table containing:\n",
    "- purchase transactions made by vendors\n",
    "- sales transaction data\n",
    "- freight costs for each vendor\n",
    "- actual product prices from vendors"
   ]
  },
  {
   "cell_type": "code",
   "execution_count": null,
   "id": "3060fb71-1974-4a8e-ab20-6ede13892775",
   "metadata": {},
   "outputs": [],
   "source": [
    "vendor_invoice.columns"
   ]
  },
  {
   "cell_type": "code",
   "execution_count": null,
   "id": "759103d6-8431-437a-92b7-ffb24279f135",
   "metadata": {},
   "outputs": [],
   "source": [
    "freight_summery = pd.read_sql_query(\"\"\" select VendorNumber, sum(Freight) as FreightCost from vendor_invoice group by VendorNumber\"\"\",conn)"
   ]
  },
  {
   "cell_type": "code",
   "execution_count": null,
   "id": "efd3fbff-0ab9-4c50-8f65-7ac9caf5b87f",
   "metadata": {},
   "outputs": [],
   "source": [
    "freight_summery"
   ]
  },
  {
   "cell_type": "code",
   "execution_count": null,
   "id": "6d4ba419-6bdd-43f6-941c-49878baf4ccb",
   "metadata": {},
   "outputs": [],
   "source": [
    "purchases.columns"
   ]
  },
  {
   "cell_type": "code",
   "execution_count": null,
   "id": "0dd28c1c-0aba-4f0a-aceb-ed1041b2f7af",
   "metadata": {},
   "outputs": [],
   "source": [
    "purchase_prices.columns"
   ]
  },
  {
   "cell_type": "code",
   "execution_count": null,
   "id": "58629ca9-b358-4fef-a69a-55aa7253cdbf",
   "metadata": {},
   "outputs": [],
   "source": [
    "pd.read_sql_query(\"\"\" select\n",
    "p.VendorNumber,\n",
    "p.VendorName,\n",
    "p.Brand,\n",
    "p.PurchasePrice,\n",
    "pp.Volume,\n",
    "pp.Price as ActualPrice,\n",
    "sum(p.Quantity) as TotalPurchaseQuantity,\n",
    "sum(p.Dollars) as TotalPurchaseDollers\n",
    "from purchases p\n",
    "join purchase_prices pp\n",
    "on p.Brand = pp.Brand\n",
    "where p.PurchasePrice > 0\n",
    "group by p.VendorNumber,p.VendorName,p.Brand\n",
    "order by TotalPurchaseDollers\n",
    "\"\"\",conn)"
   ]
  },
  {
   "cell_type": "code",
   "execution_count": null,
   "id": "0c8bb66c-6981-4a53-b505-c627d6e23b00",
   "metadata": {},
   "outputs": [],
   "source": [
    "sales.columns"
   ]
  },
  {
   "cell_type": "code",
   "execution_count": null,
   "id": "928b3eb2-bdcf-4ae8-9386-cb94d137132a",
   "metadata": {},
   "outputs": [],
   "source": [
    "pd.read_sql_query(\"\"\"select\n",
    "VendorNo,\n",
    "Brand,\n",
    "SUM(SalesDollars) as TotalSalesDollars,\n",
    "SUM(SalesPrice) as TotalSalesPrice,\n",
    "SUM(SalesQuantity) as TotatSalesQuanity,\n",
    "SUM(ExciseTax) as TotalExciseTax\n",
    "FROM sales\n",
    "GROUP BY VendorNo, Brand\n",
    "ORDER BY TotalSalesDollars\n",
    "\"\"\",conn)"
   ]
  },
  {
   "cell_type": "code",
   "execution_count": null,
   "id": "7666c6e2-45a2-4a76-a6ec-a04a937adfbb",
   "metadata": {},
   "outputs": [],
   "source": [
    "Vendor_sales_summery = pd.read_sql_query(\"\"\"WITH FreightSumary AS (\n",
    "    SELECT\n",
    "        VendorNumber,\n",
    "        Sum(Freight) AS FreightCost\n",
    "    FROM vendor_invoice\n",
    "    GROUP BY VendorNumber\n",
    "),    \n",
    "\n",
    "PurchaseSummary AS (\n",
    "    SELECT\n",
    "        p.VendorNumber,\n",
    "        p.VendorName,\n",
    "        p.Brand,\n",
    "        p.Description,\n",
    "        p.PurchasePrice,\n",
    "        pp.Price AS ActualPrice,\n",
    "        pp.Volume,\n",
    "        SUM(p.Quantity) AS TotalPurchaseQuantity,\n",
    "        SUM(p.Dollars) AS TotalPurchaseDollars\n",
    "    FROM purchases p\n",
    "    JOIN purchase_prices pp\n",
    "       on p.Brand = pp.Brand\n",
    "    WHERE p.PurchasePrice > 0\n",
    "    GROUP BY p.VendorNumber, p.VendorName, p.Brand, p.Description, p.PurchasePrice, pp.Price, pp.Volume\n",
    "),\n",
    "\n",
    "\n",
    "SalesSummary AS (\n",
    "    SELECT\n",
    "        VendorNo,\n",
    "        Brand,\n",
    "        SUM(SalesQuantity) AS TotalSalesQuantity,\n",
    "        SUM(SalesDollars) AS TotalSalesDollars,\n",
    "        SUM(SalesPrice) AS TotalSalesPrice,\n",
    "        SUM(ExciseTax) AS TotalExciseTax\n",
    "    FROM sales\n",
    "    GROUP BY VendorNo, Brand\n",
    ")\n",
    "\n",
    "SELECT\n",
    "    ps.VendorNumber,\n",
    "    ps.VendorName,\n",
    "    ps.Brand,\n",
    "    ps.Description,\n",
    "    ps.PurchasePrice,\n",
    "    ps.ActualPrice,\n",
    "    ps.Volume,\n",
    "    ps.TotalPurchaseQuantity,\n",
    "    ps.TotalPurchaseDollars,\n",
    "    ss.TotalSalesQuantity,\n",
    "    ss.TotalSalesDollars,\n",
    "    ss.TotalSalesPrice,\n",
    "    ss.TotalExciseTax,\n",
    "    fs.FreightCost\n",
    "FROM PurchaseSummary ps\n",
    "LEFT JOIN SalesSummary ss\n",
    "    ON ps.VendorNumber = ss.VendorNo\n",
    "    AND ps.Brand = ss.Brand\n",
    "LEFT JOIN FreightSumary fs  \n",
    "    ON ps.VendorNumber = fs.VendorNumber\n",
    "ORDER BY ps.TotalPurchaseDollars DESC\"\"\" ,conn)"
   ]
  },
  {
   "cell_type": "code",
   "execution_count": null,
   "id": "50fbdc92-b6fa-4b66-835e-296f6d55138f",
   "metadata": {},
   "outputs": [],
   "source": [
    "Vendor_sales_summery"
   ]
  },
  {
   "cell_type": "markdown",
   "id": "e04b8c47-4fbe-4a87-9d2d-804e51ec3309",
   "metadata": {},
   "source": [
    "This query generates a vendor-wise sales and purchase summery, which is valuable for :\n",
    "\n",
    "### Performance Optimization :\n",
    "\n",
    "- the query involves heavy joins and aggregations on large datasets like sales and purchases.\n",
    "- Storing the pre-aggregated results avoids repeated expensive computations.\n",
    "- Helps in analyzing sales, Purchase and pricing for different vendor and brands.\n",
    "- Future Benefits of Storing this data for faster Dashboarding & Reporting.\n",
    "- Instead of running expensive queries each time, dashboards can fetch data quickly from vendor_sales_summary."
   ]
  },
  {
   "cell_type": "code",
   "execution_count": null,
   "id": "5f5aad1c-9771-4a45-b458-432bba96d4f8",
   "metadata": {},
   "outputs": [],
   "source": [
    "Vendor_sales_summery.dtypes"
   ]
  },
  {
   "cell_type": "code",
   "execution_count": null,
   "id": "58a7a8f5-6e16-46c8-bd2f-da123294772e",
   "metadata": {},
   "outputs": [],
   "source": [
    "Vendor_sales_summery.isnull().sum()"
   ]
  },
  {
   "cell_type": "code",
   "execution_count": null,
   "id": "d03f7f4d-f93c-4d79-88d0-fa75c90b41e5",
   "metadata": {},
   "outputs": [],
   "source": [
    "Vendor_sales_summery['VendorName'].unique()"
   ]
  },
  {
   "cell_type": "code",
   "execution_count": null,
   "id": "725a8f46-b92c-4d44-8b4c-a0180e161b0a",
   "metadata": {},
   "outputs": [],
   "source": [
    "Vendor_sales_summery['Description'].unique()"
   ]
  },
  {
   "cell_type": "code",
   "execution_count": null,
   "id": "b179c10b-ddb2-4030-a1d2-61a3bb0b34a2",
   "metadata": {},
   "outputs": [],
   "source": [
    "Vendor_sales_summery['Volume'] = Vendor_sales_summery['Volume'].astype('float64')"
   ]
  },
  {
   "cell_type": "code",
   "execution_count": null,
   "id": "21592507-db1e-4b8a-9c3a-d0884819714f",
   "metadata": {},
   "outputs": [],
   "source": [
    "Vendor_sales_summery.fillna(0,inplace = True)"
   ]
  },
  {
   "cell_type": "code",
   "execution_count": null,
   "id": "a44e584d-a967-457f-a907-449e248882fb",
   "metadata": {},
   "outputs": [],
   "source": [
    "Vendor_sales_summery['VendorName'] = Vendor_sales_summery['VendorName'].str.strip()"
   ]
  },
  {
   "cell_type": "code",
   "execution_count": null,
   "id": "1970bdfb-25dc-4434-8b94-25b6ac4dd93a",
   "metadata": {},
   "outputs": [],
   "source": [
    "Vendor_sales_summery.dtypes"
   ]
  },
  {
   "cell_type": "code",
   "execution_count": null,
   "id": "f10f30c9-b044-48f3-88a8-5ab94d6ab02e",
   "metadata": {},
   "outputs": [],
   "source": [
    "Vendor_sales_summery['VendorName'].unique()"
   ]
  },
  {
   "cell_type": "code",
   "execution_count": null,
   "id": "7cfffc72-374c-4e9c-a290-a07a6d29d7c4",
   "metadata": {},
   "outputs": [],
   "source": [
    "Vendor_sales_summery.isnull().sum()"
   ]
  },
  {
   "cell_type": "code",
   "execution_count": null,
   "id": "6c9e5cc0-339d-4d58-82f4-ba133b87fec5",
   "metadata": {},
   "outputs": [],
   "source": [
    "Vendor_sales_summery['GrossProfit'] = Vendor_sales_summery['TotalSalesDollars'] - Vendor_sales_summery['TotalPurchaseDollars']"
   ]
  },
  {
   "cell_type": "code",
   "execution_count": null,
   "id": "92c3c974-a095-499e-9e75-2d854293dcc0",
   "metadata": {},
   "outputs": [],
   "source": [
    "Vendor_sales_summery"
   ]
  },
  {
   "cell_type": "code",
   "execution_count": null,
   "id": "28c9eba9-ea06-4ab2-bfb0-8e5b65cfcb98",
   "metadata": {},
   "outputs": [],
   "source": [
    "Vendor_sales_summery['ProfitMargin'] = (Vendor_sales_summery['GrossProfit'] / Vendor_sales_summery['TotalSalesDollars']) * 100"
   ]
  },
  {
   "cell_type": "code",
   "execution_count": null,
   "id": "d11463cb-efbb-4391-8100-24e1156008cd",
   "metadata": {},
   "outputs": [],
   "source": [
    "Vendor_sales_summery['StockTurnover'] = Vendor_sales_summery['TotalSalesQuantity']/Vendor_sales_summery['TotalPurchaseQuantity']"
   ]
  },
  {
   "cell_type": "code",
   "execution_count": null,
   "id": "3c6a9992-b2ca-4734-86a7-d85c1221c11a",
   "metadata": {},
   "outputs": [],
   "source": [
    "Vendor_sales_summery['SalestoPurchaseRatio'] = Vendor_sales_summery['TotalSalesDollars']/Vendor_sales_summery['TotalPurchaseDollars']"
   ]
  },
  {
   "cell_type": "code",
   "execution_count": null,
   "id": "cf937577-4f4d-4da9-8a76-7cc935767ba1",
   "metadata": {},
   "outputs": [],
   "source": [
    "cursor = conn.cursor()"
   ]
  },
  {
   "cell_type": "code",
   "execution_count": null,
   "id": "11c04d48-1f68-44b6-b03f-6e2e6ef5b732",
   "metadata": {},
   "outputs": [],
   "source": [
    "Vendor_sales_summery.columns "
   ]
  },
  {
   "cell_type": "code",
   "execution_count": null,
   "id": "43f95f3d-64c0-40a9-a54f-bdb45615ba42",
   "metadata": {},
   "outputs": [],
   "source": [
    "cursor.execute(\"\"\"CREATE TABLE Vendor_sales_summery(\n",
    "    VendorNumber INT,\n",
    "    VendorName VARCHAR(100),\n",
    "    Brand INT,\n",
    "    Description VARCHAR(100),\n",
    "    PurchasePrice DECIMAL(10,2),\n",
    "    ActualPrice DECIMAL(10,2),\n",
    "    Volume,\n",
    "    TotalPurchaseQuantity INT,\n",
    "    TotalPurchaseDollars DECIMAL(15,2),\n",
    "    TotalSalesQuantity INT,\n",
    "    TotalSalesDollars DECIMAL(15,2),\n",
    "    TotalSalesPrice DECIMAL(15,2),\n",
    "    TotalExciseTax DECIMAL (15,2),\n",
    "    FreightCost DECIMAL (15,2),\n",
    "    GrossProfit DECIMAL (15,2),\n",
    "    ProfitMargin DECIMAL (15,2),\n",
    "    StockTurnover DECIMAL (15,2),\n",
    "    SalestoPurchaseRatio DECIMAL (15,2),\n",
    "    PRIMARY KEY (VendorNumber, Brand)\n",
    "    );\n",
    "    \"\"\")"
   ]
  },
  {
   "cell_type": "code",
   "execution_count": null,
   "id": "f5072a24-f04b-400b-ba89-0517793e837b",
   "metadata": {},
   "outputs": [],
   "source": [
    "pd.read_sql_query(\"select * from Vendor_sales_summery\",conn) "
   ]
  },
  {
   "cell_type": "code",
   "execution_count": null,
   "id": "d26b397e-98d8-4626-9786-c3caa4ac9088",
   "metadata": {},
   "outputs": [],
   "source": [
    "Vendor_sales_summery.to_sql('Vendor_sales_summery',conn,if_exists = 'replace', index = False)"
   ]
  },
  {
   "cell_type": "code",
   "execution_count": null,
   "id": "20a54539-84cf-41c2-8c6e-a392b25acde2",
   "metadata": {},
   "outputs": [],
   "source": [
    "pd.read_sql_query(\"select * from Vendor_sales_summery\",conn) "
   ]
  },
  {
   "cell_type": "code",
   "execution_count": null,
   "id": "3511240d-6a70-45d1-bcec-7c06bc6666b1",
   "metadata": {},
   "outputs": [],
   "source": [
    "import sqlite3\n",
    "import pandas as pd\n",
    "from ingestion_db import ingest_db\n",
    "import logging\n",
    "import time\n",
    "\n",
    "logging.basicConfig(\n",
    "    filename=\"logs/get_vendor_summary.log\",\n",
    "    level=logging.DEBUG,\n",
    "    format= \"%(asctime)s - %(levelname)s - %(message)s\",\n",
    "    filemode=\"a\"\n",
    ") \n",
    "\n",
    "start = time.time()\n",
    "\n",
    "def create_vendor_summery(conn):\n",
    "    ''' This function will merge the different tables to get the overall vendor summery and adding new columns in the resultant data'''\n",
    "    Vendor_sales_summery = pd.read_sql_query(\"\"\"WITH FreightSumary AS (\n",
    "    SELECT\n",
    "        VendorNumber,\n",
    "        Sum(Freight) AS FreightCost\n",
    "    FROM vendor_invoice\n",
    "    GROUP BY VendorNumber\n",
    "),    \n",
    "\n",
    "    PurchaseSummary AS (\n",
    "        SELECT\n",
    "            p.VendorNumber,\n",
    "            p.VendorName,\n",
    "            p.Brand,\n",
    "            p.Description,\n",
    "            p.PurchasePrice,\n",
    "            pp.Price AS ActualPrice,\n",
    "            pp.Volume,\n",
    "            SUM(p.Quantity) AS TotalPurchaseQuantity,\n",
    "            SUM(p.Dollars) AS TotalPurchaseDollars\n",
    "        FROM purchases p\n",
    "        JOIN purchase_prices pp\n",
    "           on p.Brand = pp.Brand\n",
    "        WHERE p.PurchasePrice > 0\n",
    "        GROUP BY p.VendorNumber, p.VendorName, p.Brand, p.Description, p.PurchasePrice, pp.Price, pp.Volume\n",
    "    ),\n",
    "    \n",
    "    \n",
    "    SalesSummary AS (\n",
    "        SELECT\n",
    "            VendorNo,\n",
    "            Brand,\n",
    "            SUM(SalesQuantity) AS TotalSalesQuantity,\n",
    "            SUM(SalesDollars) AS TotalSalesDollars,\n",
    "            SUM(SalesPrice) AS TotalSalesPrice,\n",
    "            SUM(ExciseTax) AS TotalExciseTax\n",
    "        FROM sales\n",
    "        GROUP BY VendorNo, Brand\n",
    "    )\n",
    "    \n",
    "    SELECT\n",
    "        ps.VendorNumber,\n",
    "        ps.VendorName,\n",
    "        ps.Brand,\n",
    "        ps.Description,\n",
    "        ps.PurchasePrice,\n",
    "        ps.ActualPrice,\n",
    "        ps.Volume,\n",
    "        ps.TotalPurchaseQuantity,\n",
    "        ps.TotalPurchaseDollars,\n",
    "        ss.TotalSalesQuantity,\n",
    "        ss.TotalSalesDollars,\n",
    "        ss.TotalSalesPrice,\n",
    "        ss.TotalExciseTax,\n",
    "        fs.FreightCost\n",
    "    FROM PurchaseSummary ps\n",
    "    LEFT JOIN SalesSummary ss\n",
    "        ON ps.VendorNumber = ss.VendorNo\n",
    "        AND ps.Brand = ss.Brand\n",
    "    LEFT JOIN FreightSumary fs  \n",
    "        ON ps.VendorNumber = fs.VendorNumber\n",
    "    ORDER BY ps.TotalPurchaseDollars DESC\"\"\" ,conn)\n",
    "\n",
    "    return Vendor_sales_summery\n",
    "\n",
    "\n",
    "\n",
    "def clean_data(df):\n",
    "    '''This function will clean Data'''\n",
    "    # changing datatype to float \n",
    "    df['Volume'] = df ['Volume'].astype('float')\n",
    "\n",
    "    # filling missing value to 0\n",
    "    df.fillna(0, inplace = True)\n",
    "\n",
    "    # removing spaces from categorial columns\n",
    "    df['VendorName'] = df['VendorName'].str.strip()\n",
    "    df['Description'] = df['Description'].str.strip()\n",
    "\n",
    "    # Creating new columns for better Analysis\n",
    "    df['GrossProfit'] = df['TotalSalesDollars'] - df['TotalPurchaseDollars']\n",
    "    df['ProfitMargin'] = (df['GrossProfit'] / df['TotalSalesDollars']) * 100\n",
    "    df['StockTurnover'] = df['TotalSalesQuantity']/df['TotalPurchaseQuantity']\n",
    "    df['SalestoPurchaseRatio'] = df['TotalSalesDollars']/df['TotalPurchaseDollars']\n",
    "\n",
    "    return df\n",
    "\n",
    "\n",
    "if __name__ == '__main__':\n",
    "    # creating database connection\n",
    "    conn = sqlite3.connect('inventory.db')\n",
    "\n",
    "    logging.info('Creating Vendor Sumary Table....')\n",
    "    summery_df = create_vendor_summery(conn)\n",
    "    logging.info(summery_df.head())\n",
    "\n",
    "    logging. info('Cleaning Data....')\n",
    "    clean_df = clean_data(summery_df)\n",
    "    logging.info(clean_df.head())\n",
    "    \n",
    "    logging.info( 'Ingesting data....')\n",
    "    ingest_db(clean_df,'Vendor_sales_summery',conn)\n",
    "    logging. info('Completed')\n",
    "\n",
    "end = time.time()"
   ]
  },
  {
   "cell_type": "code",
   "execution_count": null,
   "id": "44d93148-5c4b-48b9-b8b4-88df7bed3935",
   "metadata": {},
   "outputs": [],
   "source": []
  }
 ],
 "metadata": {
  "kernelspec": {
   "display_name": "Python 3 (ipykernel)",
   "language": "python",
   "name": "python3"
  },
  "language_info": {
   "codemirror_mode": {
    "name": "ipython",
    "version": 3
   },
   "file_extension": ".py",
   "mimetype": "text/x-python",
   "name": "python",
   "nbconvert_exporter": "python",
   "pygments_lexer": "ipython3",
   "version": "3.12.7"
  }
 },
 "nbformat": 4,
 "nbformat_minor": 5
}
